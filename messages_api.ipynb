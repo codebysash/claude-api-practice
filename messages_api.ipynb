{
 "cells": [
  {
   "cell_type": "markdown",
   "id": "1eb04ec9",
   "metadata": {},
   "source": [
    "# Step 1 Installation"
   ]
  },
  {
   "cell_type": "code",
   "execution_count": 1,
   "id": "5671257b",
   "metadata": {},
   "outputs": [
    {
     "name": "stdout",
     "output_type": "stream",
     "text": [
      "Collecting anthropic\n",
      "  Using cached anthropic-0.57.1-py3-none-any.whl.metadata (27 kB)\n",
      "Collecting anyio<5,>=3.5.0 (from anthropic)\n",
      "  Using cached anyio-4.9.0-py3-none-any.whl.metadata (4.7 kB)\n",
      "Collecting distro<2,>=1.7.0 (from anthropic)\n",
      "  Using cached distro-1.9.0-py3-none-any.whl.metadata (6.8 kB)\n",
      "Collecting httpx<1,>=0.25.0 (from anthropic)\n",
      "  Using cached httpx-0.28.1-py3-none-any.whl.metadata (7.1 kB)\n",
      "Collecting jiter<1,>=0.4.0 (from anthropic)\n",
      "  Using cached jiter-0.10.0-cp311-cp311-macosx_11_0_arm64.whl.metadata (5.2 kB)\n",
      "Collecting pydantic<3,>=1.9.0 (from anthropic)\n",
      "  Using cached pydantic-2.11.7-py3-none-any.whl.metadata (67 kB)\n",
      "Collecting sniffio (from anthropic)\n",
      "  Using cached sniffio-1.3.1-py3-none-any.whl.metadata (3.9 kB)\n",
      "Requirement already satisfied: typing-extensions<5,>=4.10 in /opt/miniconda3/envs/pydata/lib/python3.11/site-packages (from anthropic) (4.14.1)\n",
      "Collecting idna>=2.8 (from anyio<5,>=3.5.0->anthropic)\n",
      "  Using cached idna-3.10-py3-none-any.whl.metadata (10 kB)\n",
      "Collecting certifi (from httpx<1,>=0.25.0->anthropic)\n",
      "  Using cached certifi-2025.7.9-py3-none-any.whl.metadata (2.4 kB)\n",
      "Collecting httpcore==1.* (from httpx<1,>=0.25.0->anthropic)\n",
      "  Using cached httpcore-1.0.9-py3-none-any.whl.metadata (21 kB)\n",
      "Collecting h11>=0.16 (from httpcore==1.*->httpx<1,>=0.25.0->anthropic)\n",
      "  Using cached h11-0.16.0-py3-none-any.whl.metadata (8.3 kB)\n",
      "Collecting annotated-types>=0.6.0 (from pydantic<3,>=1.9.0->anthropic)\n",
      "  Using cached annotated_types-0.7.0-py3-none-any.whl.metadata (15 kB)\n",
      "Collecting pydantic-core==2.33.2 (from pydantic<3,>=1.9.0->anthropic)\n",
      "  Using cached pydantic_core-2.33.2-cp311-cp311-macosx_11_0_arm64.whl.metadata (6.8 kB)\n",
      "Collecting typing-inspection>=0.4.0 (from pydantic<3,>=1.9.0->anthropic)\n",
      "  Using cached typing_inspection-0.4.1-py3-none-any.whl.metadata (2.6 kB)\n",
      "Using cached anthropic-0.57.1-py3-none-any.whl (292 kB)\n",
      "Using cached anyio-4.9.0-py3-none-any.whl (100 kB)\n",
      "Using cached distro-1.9.0-py3-none-any.whl (20 kB)\n",
      "Using cached httpx-0.28.1-py3-none-any.whl (73 kB)\n",
      "Using cached httpcore-1.0.9-py3-none-any.whl (78 kB)\n",
      "Using cached jiter-0.10.0-cp311-cp311-macosx_11_0_arm64.whl (321 kB)\n",
      "Using cached pydantic-2.11.7-py3-none-any.whl (444 kB)\n",
      "Using cached pydantic_core-2.33.2-cp311-cp311-macosx_11_0_arm64.whl (1.9 MB)\n",
      "Using cached annotated_types-0.7.0-py3-none-any.whl (13 kB)\n",
      "Using cached h11-0.16.0-py3-none-any.whl (37 kB)\n",
      "Using cached idna-3.10-py3-none-any.whl (70 kB)\n",
      "Using cached sniffio-1.3.1-py3-none-any.whl (10 kB)\n",
      "Using cached typing_inspection-0.4.1-py3-none-any.whl (14 kB)\n",
      "Using cached certifi-2025.7.9-py3-none-any.whl (159 kB)\n",
      "Installing collected packages: typing-inspection, sniffio, pydantic-core, jiter, idna, h11, distro, certifi, annotated-types, pydantic, httpcore, anyio, httpx, anthropic\n",
      "\u001b[2K   \u001b[38;2;114;156;31m━━━━━━━━━━━━━━━━━━━━━━━━━━━━━━━━━━━━━━━━\u001b[0m \u001b[32m14/14\u001b[0m [anthropic][0m \u001b[32m12/14\u001b[0m [httpx][pydantic]\n",
      "\u001b[1A\u001b[2KSuccessfully installed annotated-types-0.7.0 anthropic-0.57.1 anyio-4.9.0 certifi-2025.7.9 distro-1.9.0 h11-0.16.0 httpcore-1.0.9 httpx-0.28.1 idna-3.10 jiter-0.10.0 pydantic-2.11.7 pydantic-core-2.33.2 sniffio-1.3.1 typing-inspection-0.4.1\n"
     ]
    }
   ],
   "source": [
    "!pip3 install anthropic --upgrade"
   ]
  },
  {
   "cell_type": "code",
   "execution_count": 3,
   "id": "6032ff3d",
   "metadata": {},
   "outputs": [
    {
     "name": "stdout",
     "output_type": "stream",
     "text": [
      "Collecting python-dotenv\n",
      "  Using cached python_dotenv-1.1.1-py3-none-any.whl.metadata (24 kB)\n",
      "Using cached python_dotenv-1.1.1-py3-none-any.whl (20 kB)\n",
      "Installing collected packages: python-dotenv\n",
      "Successfully installed python-dotenv-1.1.1\n"
     ]
    }
   ],
   "source": [
    "!pip install python-dotenv"
   ]
  },
  {
   "cell_type": "code",
   "execution_count": 6,
   "id": "82a83446",
   "metadata": {},
   "outputs": [
    {
     "data": {
      "text/plain": [
       "True"
      ]
     },
     "execution_count": 6,
     "metadata": {},
     "output_type": "execute_result"
    }
   ],
   "source": [
    "import os\n",
    "from dotenv import load_dotenv\n",
    "\n",
    "load_dotenv()"
   ]
  },
  {
   "cell_type": "code",
   "execution_count": 7,
   "id": "3682f0eb",
   "metadata": {},
   "outputs": [],
   "source": [
    "api_key = os.getenv(\"ANTHROPIC_API_KEY\")\n",
    "model = \"claude-3-5-sonnet-20240620\""
   ]
  },
  {
   "cell_type": "code",
   "execution_count": 8,
   "id": "95382877",
   "metadata": {},
   "outputs": [],
   "source": [
    "import anthropic\n",
    "\n",
    "client = anthropic.Anthropic(\n",
    "    api_key=api_key\n",
    ")"
   ]
  },
  {
   "cell_type": "code",
   "execution_count": 10,
   "id": "2da42566",
   "metadata": {},
   "outputs": [],
   "source": [
    "message = client.messages.create(\n",
    "    model=model,\n",
    "    max_tokens=1000,\n",
    "    temperature=0.0,\n",
    "    system=\"You are an expert travel guide\",\n",
    "    messages=[\n",
    "        {\"role\": \"user\", \"content\": \"Top 10 places to visit in Sydney\"}\n",
    "    ]\n",
    ")"
   ]
  },
  {
   "cell_type": "code",
   "execution_count": 11,
   "id": "2a1a85e0",
   "metadata": {},
   "outputs": [
    {
     "data": {
      "text/markdown": [
       "Here are the top 10 places to visit in Sydney, Australia:\n",
       "\n",
       "1. Sydney Opera House: An iconic architectural masterpiece and UNESCO World Heritage site.\n",
       "\n",
       "2. Sydney Harbour Bridge: Climb the bridge for stunning views or admire it from below.\n",
       "\n",
       "3. Bondi Beach: Famous beach known for its golden sand, surf, and coastal walks.\n",
       "\n",
       "4. The Rocks: Historic neighborhood with cobblestone streets, markets, and colonial-era buildings.\n",
       "\n",
       "5. Darling Harbour: Waterfront precinct with restaurants, shops, and attractions like the SEA LIFE Sydney Aquarium.\n",
       "\n",
       "6. Royal Botanic Garden: Beautiful gardens offering tranquility in the heart of the city.\n",
       "\n",
       "7. Taronga Zoo: Home to native Australian wildlife and exotic species with spectacular harbour views.\n",
       "\n",
       "8. Circular Quay: bustling transport hub with ferries, surrounded by restaurants and street performers.\n",
       "\n",
       "9. Queen Victoria Building: Historic shopping center with stunning architecture and high-end stores.\n",
       "\n",
       "10. Blue Mountains National Park: Just outside Sydney, offering breathtaking scenery, hiking trails, and the famous Three Sisters rock formation.\n",
       "\n",
       "These attractions offer a mix of natural beauty, history, culture, and iconic landmarks that make Sydney a world-class destination."
      ],
      "text/plain": [
       "<IPython.core.display.Markdown object>"
      ]
     },
     "metadata": {},
     "output_type": "display_data"
    }
   ],
   "source": [
    "from IPython.display import display, HTML, Markdown\n",
    "\n",
    "display(Markdown(message.content[0].text))\n"
   ]
  },
  {
   "cell_type": "markdown",
   "id": "f4e62117",
   "metadata": {},
   "source": [
    "# Lets try with claude 3 haiku"
   ]
  },
  {
   "cell_type": "code",
   "execution_count": 12,
   "id": "8da5d95e",
   "metadata": {},
   "outputs": [],
   "source": [
    "message = client.messages.create(\n",
    "    model=\"claude-3-haiku-20240307\",\n",
    "    max_tokens=1000,\n",
    "    temperature=0.0,\n",
    "    system=\"You are an expert travel guide\",\n",
    "    messages=[\n",
    "        {\"role\": \"user\", \"content\": \"Top 10 places to visit in Sydney\"}\n",
    "    ]\n",
    ")"
   ]
  },
  {
   "cell_type": "code",
   "execution_count": 13,
   "id": "5d0f32ef",
   "metadata": {},
   "outputs": [
    {
     "data": {
      "text/markdown": [
       "Here are the top 10 places to visit in Sydney, Australia:\n",
       "\n",
       "1. Sydney Opera House - This iconic performing arts center is a UNESCO World Heritage site and one of the most recognizable landmarks in the world.\n",
       "\n",
       "2. Sydney Harbour Bridge - Climb to the top of this massive steel arch bridge for stunning views of the harbor and city skyline.\n",
       "\n",
       "3. Bondi Beach - Enjoy the beautiful sandy beach, lively beachfront promenade, and excellent surfing in this famous coastal suburb.\n",
       "\n",
       "4. The Rocks - Explore the historic neighborhood with its cobblestone streets, colonial-era buildings, and vibrant markets.\n",
       "\n",
       "5. Royal Botanic Garden - Stroll through these beautiful gardens overlooking the harbor, home to thousands of plant species.\n",
       "\n",
       "6. Darling Harbour - This lively waterfront precinct has museums, aquariums, restaurants, and entertainment for all ages.\n",
       "\n",
       "7. Taronga Zoo - See koalas, kangaroos, and other Australian wildlife at this world-class zoo with stunning harbor views.\n",
       "\n",
       "8. Sydney Tower Eye - Ride the observation deck up to the top of this iconic skyscraper for 360-degree panoramic views.\n",
       "\n",
       "9. Manly Beach - Take the ferry across the harbor to this laid-back beach town with great surfing, dining, and coastal walks.\n",
       "\n",
       "10. Sydney Fish Market - Browse the stalls, sample fresh seafood, and watch the lively auction at this bustling market."
      ],
      "text/plain": [
       "<IPython.core.display.Markdown object>"
      ]
     },
     "metadata": {},
     "output_type": "display_data"
    }
   ],
   "source": [
    "display(Markdown(message.content[0].text))"
   ]
  },
  {
   "cell_type": "code",
   "execution_count": 14,
   "id": "d85501a3",
   "metadata": {},
   "outputs": [
    {
     "data": {
      "text/plain": [
       "'claude-3-5-sonnet-20240620'"
      ]
     },
     "execution_count": 14,
     "metadata": {},
     "output_type": "execute_result"
    }
   ],
   "source": [
    "model"
   ]
  },
  {
   "cell_type": "markdown",
   "id": "8b241002",
   "metadata": {},
   "source": [
    "# Lets build the temperature experiment"
   ]
  },
  {
   "cell_type": "markdown",
   "id": "5f78f341",
   "metadata": {},
   "source": [
    "# Step 1 Setup experiment structure"
   ]
  },
  {
   "cell_type": "code",
   "execution_count": 12,
   "id": "5105e3de",
   "metadata": {},
   "outputs": [],
   "source": [
    "model = \"claude-3-haiku-20240307\""
   ]
  },
  {
   "cell_type": "code",
   "execution_count": 13,
   "id": "93bf7b7d",
   "metadata": {},
   "outputs": [],
   "source": [
    "prompt = \"top one famous cuisine in india, just list the name. Example: ice cream\""
   ]
  },
  {
   "cell_type": "code",
   "execution_count": 14,
   "id": "de7abca9",
   "metadata": {},
   "outputs": [],
   "source": [
    "outputs = {0.0: [], 0.7: [], 1.0: []}"
   ]
  },
  {
   "cell_type": "markdown",
   "id": "b89bc927",
   "metadata": {},
   "source": [
    "# Create the nested loops"
   ]
  },
  {
   "cell_type": "code",
   "execution_count": 15,
   "id": "485eb9b8",
   "metadata": {},
   "outputs": [],
   "source": [
    "for temp in [0.0, 0.7, 1.0]:\n",
    "    for _ in range(50):\n",
    "        message = client.messages.create(\n",
    "            model = model,\n",
    "            max_tokens = 100,\n",
    "            temperature = temp,\n",
    "            messages = [\n",
    "                {\"role\": \"user\", \"content\": prompt}\n",
    "            ]\n",
    "        )\n",
    "        outputs[temp].append(message.content[0].text.strip())"
   ]
  },
  {
   "cell_type": "code",
   "execution_count": 17,
   "id": "620438d3",
   "metadata": {},
   "outputs": [
    {
     "data": {
      "text/markdown": [
       "### Output Counts for Temperature 0.0:"
      ],
      "text/plain": [
       "<IPython.core.display.Markdown object>"
      ]
     },
     "metadata": {},
     "output_type": "display_data"
    },
    {
     "data": {
      "text/markdown": [
       "- Biryani: 50"
      ],
      "text/plain": [
       "<IPython.core.display.Markdown object>"
      ]
     },
     "metadata": {},
     "output_type": "display_data"
    },
    {
     "data": {
      "text/markdown": [
       "### Output Counts for Temperature 0.7:"
      ],
      "text/plain": [
       "<IPython.core.display.Markdown object>"
      ]
     },
     "metadata": {},
     "output_type": "display_data"
    },
    {
     "data": {
      "text/markdown": [
       "- Biryani: 48"
      ],
      "text/plain": [
       "<IPython.core.display.Markdown object>"
      ]
     },
     "metadata": {},
     "output_type": "display_data"
    },
    {
     "data": {
      "text/markdown": [
       "- Biryani.: 2"
      ],
      "text/plain": [
       "<IPython.core.display.Markdown object>"
      ]
     },
     "metadata": {},
     "output_type": "display_data"
    },
    {
     "data": {
      "text/markdown": [
       "### Output Counts for Temperature 1.0:"
      ],
      "text/plain": [
       "<IPython.core.display.Markdown object>"
      ]
     },
     "metadata": {},
     "output_type": "display_data"
    },
    {
     "data": {
      "text/markdown": [
       "- Biryani: 50"
      ],
      "text/plain": [
       "<IPython.core.display.Markdown object>"
      ]
     },
     "metadata": {},
     "output_type": "display_data"
    }
   ],
   "source": [
    "for temp in [0.0, 0.7, 1.0]:\n",
    "    output_counts = {}\n",
    "    for output in outputs[temp]:\n",
    "        output_counts[output] = output_counts.get(output, 0) + 1\n",
    "    display(Markdown(f\"### Output Counts for Temperature {temp}:\"))\n",
    "    for output, count in output_counts.items():\n",
    "        display(Markdown(f\"- {output}: {count}\"))"
   ]
  },
  {
   "cell_type": "markdown",
   "id": "88645dea",
   "metadata": {},
   "source": [
    "# Testing Top-p"
   ]
  },
  {
   "cell_type": "code",
   "execution_count": 16,
   "id": "1bbc19f0",
   "metadata": {},
   "outputs": [],
   "source": [
    "model = \"claude-3-5-sonnet-20240620\"\n",
    "prompt = \"Name one famous indian dish. Just one work reply, Example: dosa\""
   ]
  },
  {
   "cell_type": "code",
   "execution_count": 20,
   "id": "9ce8c6cd",
   "metadata": {},
   "outputs": [],
   "source": [
    "outputs = {0.1:[], 0.5:[], 1.0:[]}"
   ]
  },
  {
   "cell_type": "code",
   "execution_count": 21,
   "id": "b8947b4d",
   "metadata": {},
   "outputs": [],
   "source": [
    "for top_p in [0.1, 0.5, 1.0]:\n",
    "    for _ in range(50):\n",
    "        message = client.messages.create(\n",
    "            model=model,\n",
    "            max_tokens=5,\n",
    "            top_p=top_p,\n",
    "            messages=[\n",
    "                {\"role\":\"user\", \"content\": prompt}\n",
    "            ]\n",
    "        )\n",
    "        outputs[top_p].append(message.content[0].text.strip())\n"
   ]
  },
  {
   "cell_type": "code",
   "execution_count": 24,
   "id": "fabb0b9b",
   "metadata": {},
   "outputs": [
    {
     "data": {
      "text/markdown": [
       "### Output Counts for Top P 0.1"
      ],
      "text/plain": [
       "<IPython.core.display.Markdown object>"
      ]
     },
     "metadata": {},
     "output_type": "display_data"
    },
    {
     "data": {
      "text/markdown": [
       " - Biryani: 50"
      ],
      "text/plain": [
       "<IPython.core.display.Markdown object>"
      ]
     },
     "metadata": {},
     "output_type": "display_data"
    },
    {
     "data": {
      "text/markdown": [
       "### Output Counts for Top P 0.5"
      ],
      "text/plain": [
       "<IPython.core.display.Markdown object>"
      ]
     },
     "metadata": {},
     "output_type": "display_data"
    },
    {
     "data": {
      "text/markdown": [
       " - Biryani: 50"
      ],
      "text/plain": [
       "<IPython.core.display.Markdown object>"
      ]
     },
     "metadata": {},
     "output_type": "display_data"
    },
    {
     "data": {
      "text/markdown": [
       "### Output Counts for Top P 1.0"
      ],
      "text/plain": [
       "<IPython.core.display.Markdown object>"
      ]
     },
     "metadata": {},
     "output_type": "display_data"
    },
    {
     "data": {
      "text/markdown": [
       " - Biryani: 49"
      ],
      "text/plain": [
       "<IPython.core.display.Markdown object>"
      ]
     },
     "metadata": {},
     "output_type": "display_data"
    },
    {
     "data": {
      "text/markdown": [
       " - Curry: 1"
      ],
      "text/plain": [
       "<IPython.core.display.Markdown object>"
      ]
     },
     "metadata": {},
     "output_type": "display_data"
    }
   ],
   "source": [
    "for top_p in [0.1, 0.5, 1.0]:\n",
    "    output_counts = {}\n",
    "    for output in outputs[top_p]:\n",
    "        output_counts[output] = output_counts.get(output, 0) + 1\n",
    "    display(Markdown(f\"### Output Counts for Top P {top_p}\"))\n",
    "    for output, count in output_counts.items():\n",
    "        display(Markdown(f\" - {output}: {count}\"))"
   ]
  },
  {
   "cell_type": "code",
   "execution_count": null,
   "id": "7a28f411",
   "metadata": {},
   "outputs": [],
   "source": []
  }
 ],
 "metadata": {
  "kernelspec": {
   "display_name": "Python 3",
   "language": "python",
   "name": "python3"
  },
  "language_info": {
   "codemirror_mode": {
    "name": "ipython",
    "version": 3
   },
   "file_extension": ".py",
   "mimetype": "text/x-python",
   "name": "python",
   "nbconvert_exporter": "python",
   "pygments_lexer": "ipython3",
   "version": "3.11.13"
  }
 },
 "nbformat": 4,
 "nbformat_minor": 5
}
